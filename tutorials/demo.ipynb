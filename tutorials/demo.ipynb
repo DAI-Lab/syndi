{
 "cells": [
  {
   "cell_type": "code",
   "execution_count": null,
   "metadata": {},
   "outputs": [],
   "source": [
    "results_output_path = \"results/\"\n",
    "task_output_path = \"tasks/\"\n",
    "path_to_generators = \"generators/\"\n",
    "# define parameters above\n",
    "# add gini\n",
    "# focus demo on liberty mutual\n",
    "# \n",
    "tasks = syndi.syndi.task.create_tasks(train_dataset=\"data/train.csv\",\n",
    "                test_dataset=\"data/test.csv\", target=\"charges\",\n",
    "                path_to_generators = path_to_generators, pycaret_models=[\"lr\", \"ridge\", \"kr\"],\n",
    "                task_sampling_method=\"uniform\", run_num=1, output_dir=task_output_path, is_regression=True)\n",
    " \n",
    "\n",
    "result_df, failed_tasks = syndi.syndi.benchmark.benchmark(tasks, agnostic_metrics=False, output_path=results_output_path, is_regression=True)"
   ]
  }
 ],
 "metadata": {
  "language_info": {
   "name": "plaintext"
  },
  "orig_nbformat": 4
 },
 "nbformat": 4,
 "nbformat_minor": 2
}
